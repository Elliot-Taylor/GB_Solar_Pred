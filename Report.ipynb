{
 "metadata": {
  "language_info": {
   "codemirror_mode": {
    "name": "ipython",
    "version": 3
   },
   "file_extension": ".py",
   "mimetype": "text/x-python",
   "name": "python",
   "nbconvert_exporter": "python",
   "pygments_lexer": "ipython3",
   "version": "3.7.6-final"
  },
  "orig_nbformat": 2,
  "kernelspec": {
   "name": "Python 3.7.6 64-bit (conda)",
   "display_name": "Python 3.7.6 64-bit (conda)",
   "metadata": {
    "interpreter": {
     "hash": "adb5213e0ce954e7c0f51d6e9f7836ed74e784d1e79196b4ccf04ec2192a71e1"
    }
   }
  }
 },
 "nbformat": 4,
 "nbformat_minor": 2,
 "cells": [
  {
   "source": [
    "# Solar Power Report\n",
    "### This notebook outlines the report in regards to the Solar Power prediction Data Analysis and Modelling. \n",
    "#### By Elliot Taylor"
   ],
   "cell_type": "markdown",
   "metadata": {}
  },
  {
   "source": [
    "# Introduction\n",
    "### 1) Background\n",
    "Solar power and renewable energy production in general will become an essential part of the world of tomorrow and in some places already is. As countries move forward towards cleaner power grids the  Knowing and understanding how much power can be generated based on given conditions will allow for smarter power grids which can allocate and depend on certain resources based on the conditions of that day. \n",
    "\n",
    "As we can see below renewable power generation the in UK has increased greatly over the past 10 years, with solar power being introduced in 2010. As the UK has rattified the Paris Agreement in 2016 it has committed to reduce it's green house gas emissions, a key part of this will be renewable energy."
   ],
   "cell_type": "markdown",
   "metadata": {}
  },
  {
   "source": [
    "![UK Renewable Generation Graph](Images/UK_renewables_installed_capacity.PNG)\n",
    "\n",
    "Ref - Energy Trends: UK renewables From:Department for Business, Energy & Industrial Strategy https://www.gov.uk/government/statistics/energy-trends-section-6-renewables"
   ],
   "cell_type": "markdown",
   "metadata": {}
  },
  {
   "source": [
    "### 2) Problem\n",
    "This project aims to take data from the UK between 2015-2016 to understand and model the solar power generation. In a real world project a model such as this would allow power companies to predict how much power they could generate through renewable sources and depending on that increase or reduce the amount produced from non renewable sources. Therefore the problem I aim to solve is on a given day how much power can be expected to be produced by the UK's solar power grid."
   ],
   "cell_type": "markdown",
   "metadata": {}
  },
  {
   "source": [
    "# Methodology\n",
    "## Data \n",
    "### Data Acquisition\n",
    "The data used for the project was acquired from: https://data.open-power-system-data.org/weather_data/ and https://data.open-power-system-data.org/time_series/ . These Datasets have been downloaded from the links and modified to only include data for Great Britain for 2015-2016. \n",
    "### Data features\n",
    "The data used includes two data sets, a time series data set and a weather dataset. These datasets have a single row for every hour from the 1st of January 2015 to the 31st of December 2016, this means a total of 17544 entries with 8 variables for each entry. The target of the project will be the solar generation with the other columns acting as features to predict the generation. "
   ],
   "cell_type": "markdown",
   "metadata": {}
  },
  {
   "source": [
    "The timeseries dataset contains 5 columns which describe:\n",
    "<pre>\n",
    "- GB_GBN_load_actual_tso                      -> Total load in Great Britain in MW as published by own calculation based on National Grid  \n",
    "- GB_GBN_load_forecast_entsoe_transparency    -> Day-ahead load forecast in Great Britain in MW as published on ENTSO-E Transparency Platform  \n",
    "- GB_GBN_price_day_ahead                      -> Day-ahead spot price for Great Britain in GBP  \n",
    "- GB_GBN_solar_capacity\t                      -> Electrical capacity of solar in Great Britain in MW  \n",
    "- GB_GBN_solar_generation_actual              -> Electrical generation of solar in Great Britain in MW  \n",
    "<pre>"
   ],
   "cell_type": "markdown",
   "metadata": {}
  },
  {
   "source": [
    "The weather dataset contains 3 columns which describe:\n",
    "<pre>\n",
    "- GB_temperature                              -> temperature weather variable for GB in degrees C\n",
    "- GB_radiation_direct_horizontal              -> radiation_direct_horizontal weather variable for GB in W/m2\n",
    "- GB_radiation_diffuse_horizontal             -> radiation_diffuse_horizontal weather variable for GB in W/m2\n",
    "<pre>"
   ],
   "cell_type": "markdown",
   "metadata": {}
  },
  {
   "source": [
    "### Data Cleaning\n",
    "\n",
    "Although the data is overall very well organised and clean already there are some minor ways in which the data set was cleaned. \n",
    "\n",
    "First the names of the columns was updated, although they are descriptive because the data comes from a larger data source there is more information than necessary. Therefore the column names where reduced to: Temp, Rad_Direct, Rad_Diffuse, Load_Actual, Load_Forecast, Price_Day_Ahead, and Solar_Cap.\n",
    "\n",
    "Next in Price_Day_Ahead there were 49 empty entries therefore these rows where dropped, this is because 49 entries only represents a little over 2 days of data and will have relatively low impact on the dataset as a whole.\n",
    "\n",
    "Finally the Timestamp column was converted into a Timestamp dtype, although Timestamp will not be used in the final model this makes working with the data for exploration easier.\n"
   ],
   "cell_type": "markdown",
   "metadata": {}
  },
  {
   "source": [
    "### Data Exploration\n",
    "\n",
    "#### Overview\n",
    "\n",
    "Now that we have our cleaned data set we can take a look at the variables with have and how they interact with our target variable Solar_gen.\n",
    "\n",
    "First off below you can see our variables across the two years. Predictable temperature and radiance show higher values during the summer months with significatly lower values during winter. Less predictably the oposite can be said for both load variables this is most likely because in the UK during winter electric heating systems will be used to heat homes and businesses, however unlike countries with warmer more humid climates during summer air conditioning is rarely used in homes in the UK. Price day ahead shows a relatively flat line with little variation across 2015 although in the later half of 2016 there appears to be more variation. Finally solar capacity shows 3 plateaus with very minor increases across the 2 years, only shows sizable increases in the spring of each year. \n"
   ],
   "cell_type": "markdown",
   "metadata": {}
  },
  {
   "source": [
    "![Time lapse](Images/timelapse.png)"
   ],
   "cell_type": "markdown",
   "metadata": {
    "tags": []
   }
  },
  {
   "source": [
    "As mentioned above we can see that a lot of our variables show similar patterns to other variables, to investigate how they interact with each other further the below pearsons correlation matrix highlights the relationships between each. \n",
    "\n",
    "From this we can wee that the two load variables are very closely correlated and given how they both relate to the same information this warrents further investigation into whether it is worth keeping both variables. In contrast rad direct and diffuse both have the same source and units, however they show a much lower correlation which suggests that there may be information to gain from each of them. We will explore the val ue of each variable and the information they provide later on as we look at feature selection.\n"
   ],
   "cell_type": "markdown",
   "metadata": {
    "tags": []
   }
  },
  {
   "source": [
    "![Correlation Matrix](Images/correlationMatrixPearson.png)"
   ],
   "cell_type": "markdown",
   "metadata": {}
  },
  {
   "source": [
    "#### Relationship of features to Solar Generation\n",
    "\n",
    "Looking at the below graphs we can see the scattergraphs of each variable vs Solar Generation.\n",
    "\n",
    "As suggusted by the above correlation matrix we can see rad direct has the clearest most linear relationship, temperature has weak postive relationship, as does rad diffuse although rad diffuse appears to have weaker linear correlation as it increases. \n",
    "\n",
    "Contrary to the correlation matrix above a point load actual appears to have a weak negative linear relationship above around 1000MW solar generation, an explanation for this could be the opposing annual fluxtuations in each with solar generation being greatest in summer when load is lowest and vice versa. A similar relationship can be seen with load forecast.\n",
    "\n",
    "Solar capacity despite the low correlation in the matrix shows a realtionship with solar generation setting an upper limit with maximum solar generation increasing as solar capacity increases. This is as expected as the capacity sets a hard limit on generation.\n",
    "\n",
    "Price day ahead reflects the above correlation matrix with no linear correlation between price day ahead and solar generation.\n"
   ],
   "cell_type": "markdown",
   "metadata": {}
  },
  {
   "source": [
    "![Correlations](Images/correlation.png)"
   ],
   "cell_type": "markdown",
   "metadata": {}
  },
  {
   "source": [
    "## Predictive Modeling \n",
    "\n",
    "Now that we have our data prepared we will move onto predictive modelling. As our target variable is continuous we will take a look at 3 algorithms Linear Regression, Random Forest and XGBoost. We will evaluate these using MSE (mean square error), MAE (mean absolute error), and R squared score.\n",
    "\n",
    "Before we make any models we will first perform some feature selection. Although we already have a limited numeber of features as we saw above in our data exploration some of the features are very similar and can therefore potentially be removed."
   ],
   "cell_type": "markdown",
   "metadata": {}
  },
  {
   "source": [
    "### Feature selection.\n",
    "\n",
    "First off we can say that temperature and solar capacity will definitely be used as they provide unique information and are not highly correlated to any other features. The features up for discussion will be rad diffuse vs rad direct, load forecast vs load actual and price day ahead. \n",
    "\n",
    "#### Price day ahead\n",
    "\n",
    "As price day ahead shows very little correlation with our target variable we can assume it provides little information to our models, however to confirm this we can use a simple random forest model to extract the feature importances. As we can see price day ahead has the lowest relative importance therefore we will remove it from our feature list. \n",
    "\n",
    "![FeatureImportances](Images/featureImportances.png)\n",
    "\n",
    "#### Load actual vs load forecast\n",
    "\n",
    "Although both load variables are highly correlated we can see that although they are much less important than the Rad variables they still provide some information for the model. There we will perform some statistical analysis to confirm whether there is a statistically significant difference between the variables. First for most statistical tests there is the assumption that the variables are approximately normal. Luckly as show below both variables have a close to normal distribution, therfore we can perform a t test on them to see if there is a statistically significant difference between the two variables.\n",
    "\n",
    "#### Rad diffuse vs Rad direct.\n",
    "\n",
    "Rad diffuse vs rad direct is more difficult \n",
    "\n"
   ],
   "cell_type": "markdown",
   "metadata": {}
  },
  {
   "source": [],
   "cell_type": "markdown",
   "metadata": {}
  },
  {
   "source": [
    "### Linear Regression"
   ],
   "cell_type": "markdown",
   "metadata": {}
  },
  {
   "source": [
    "### Random Forest"
   ],
   "cell_type": "markdown",
   "metadata": {}
  },
  {
   "source": [
    "### XGBoost"
   ],
   "cell_type": "markdown",
   "metadata": {}
  },
  {
   "source": [
    "# Conclusion"
   ],
   "cell_type": "markdown",
   "metadata": {}
  },
  {
   "source": [],
   "cell_type": "markdown",
   "metadata": {}
  },
  {
   "cell_type": "code",
   "execution_count": null,
   "metadata": {},
   "outputs": [],
   "source": []
  }
 ]
}
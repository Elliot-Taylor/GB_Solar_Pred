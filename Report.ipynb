{
 "metadata": {
  "language_info": {
   "codemirror_mode": {
    "name": "ipython",
    "version": 3
   },
   "file_extension": ".py",
   "mimetype": "text/x-python",
   "name": "python",
   "nbconvert_exporter": "python",
   "pygments_lexer": "ipython3",
   "version": "3.7.6-final"
  },
  "orig_nbformat": 2,
  "kernelspec": {
   "name": "Python 3.7.6 64-bit (conda)",
   "display_name": "Python 3.7.6 64-bit (conda)",
   "metadata": {
    "interpreter": {
     "hash": "adb5213e0ce954e7c0f51d6e9f7836ed74e784d1e79196b4ccf04ec2192a71e1"
    }
   }
  }
 },
 "nbformat": 4,
 "nbformat_minor": 2,
 "cells": [
  {
   "source": [
    "# Solar Power Report\n",
    "### This notebook outlines the report in regards to the Solar Power prediction Data Analysis and Modelling. \n",
    "#### By Elliot Taylor"
   ],
   "cell_type": "markdown",
   "metadata": {}
  },
  {
   "source": [
    "## Introduction\n",
    "### 1) Background\n",
    "Solar power and renewable energy produciton in general will become an essential part of the world of tomorrow and in some places already is. As countries move forward towards cleaner power grids the  Knowing and understanding how much power can be generated based on given conditions will allow for smarter power grids which can allocate and depend on certain resources based on the conditions of that day. \n",
    "\n",
    "As we can see below renewable power generation the in UK has increased greatly over the past 10 years, with solar power being introduced in 2010. As the UK has rattified the Paris Agreement in 2016 it has committed to reduce it's green house gas emissions, a key part of this will be renewable energy."
   ],
   "cell_type": "markdown",
   "metadata": {}
  },
  {
   "source": [
    "![UK Renewable Generation Graph](Images/UK_renewables_installed_capacity.PNG)\n",
    "\n",
    "Ref - Energy Trends: UK renewables From:Department for Business, Energy & Industrial Strategy https://www.gov.uk/government/statistics/energy-trends-section-6-renewables"
   ],
   "cell_type": "markdown",
   "metadata": {}
  },
  {
   "source": [
    "### 2) Problem\n",
    "This project aims to take data from the UK between 2015-2016 to understand and model the solar power generation. In a real world project a model such as this would allow power companies to predict how much power they could generate through renewable sources and depending on that increase or reduce the amount produced from non renewable sources. Therefore the problem I aim to solve is on a given day how much power can be expected to be produced by the UK's solar power grid."
   ],
   "cell_type": "markdown",
   "metadata": {}
  },
  {
   "source": [
    "## Data \n",
    "### 1) Data Acquisition\n",
    "The data used for the project was acquired from: https://data.open-power-system-data.org/weather_data/ and https://data.open-power-system-data.org/time_series/ . These Datasets have been downloaded from the links and modified to only include data for Great Britain for 2015-2016. \n",
    "### 2) Data features\n",
    "The data used includes two data sets, a time series data set and a weather dataset. These datasets have a single row for every hour from the 1st of January 2015 to the 31st of December 2016, this means a total of 17544 entries with 8 variables for each entry. The target of the project will be the solar generation with the other columns acting as features to predict the generation. "
   ],
   "cell_type": "markdown",
   "metadata": {}
  },
  {
   "source": [
    "The timeseries dataset contains 5 columns which describe:\n",
    "<pre>\n",
    "- GB_GBN_load_actual_tso                      -> Total load in Great Britain in MW as published by own calculation based on National Grid  \n",
    "- GB_GBN_load_forecast_entsoe_transparency    -> Day-ahead load forecast in Great Britain in MW as published on ENTSO-E Transparency Platform  \n",
    "- GB_GBN_price_day_ahead                      -> Day-ahead spot price for Great Britain in GBP  \n",
    "- GB_GBN_solar_capacity\t                      -> Electrical capacity of solar in Great Britain in MW  \n",
    "- GB_GBN_solar_generation_actual              -> Electrical generation of solar in Great Britain in MW  \n",
    "<pre>\n",
    "The weather dataset contains 3 columns which describe:\n",
    "<pre>\n",
    "- GB_temperature                              -> temperature weather variable for GB in degrees C\n",
    "- GB_radiation_direct_horizontal              -> radiation_direct_horizontal weather variable for GB in W/m2\n",
    "- GB_radiation_diffuse_horizontal             -> radiation_diffuse_horizontal weather variable for GB in W/m2\n",
    "<pre>\n"
   ],
   "cell_type": "markdown",
   "metadata": {}
  },
  {
   "cell_type": "code",
   "execution_count": null,
   "metadata": {},
   "outputs": [],
   "source": []
  }
 ]
}